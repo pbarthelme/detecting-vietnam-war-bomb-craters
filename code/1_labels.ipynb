{
 "cells": [
  {
   "cell_type": "markdown",
   "metadata": {},
   "source": [
    "## Manually create crater labels\n",
    "The image tiles generated in the 0_gen_training_tiles notebook are used to manually create crater labels in QGIS. This notebook is a placeholder to visualise this extra step and provide a short summary of labelled craters. \n",
    "\n",
    "\n",
    "#### Inputs:\n",
    "* *labels_processed_path*: File with labelled craters for each study area (geojson files)\n",
    "\n",
    "#### Created paper content:\n",
    "* **Total craters labelled**: Number of craters labelled by study area and crater type"
   ]
  },
  {
   "cell_type": "code",
   "execution_count": 1,
   "metadata": {},
   "outputs": [],
   "source": [
    "import geopandas as gpd\n",
    "from utils import load_config"
   ]
  },
  {
   "cell_type": "code",
   "execution_count": 2,
   "metadata": {},
   "outputs": [],
   "source": [
    "config = load_config(\"../config.yaml\")\n",
    "study_areas = config.get(\"study_areas\").keys()"
   ]
  },
  {
   "cell_type": "code",
   "execution_count": 3,
   "metadata": {},
   "outputs": [
    {
     "name": "stdout",
     "output_type": "stream",
     "text": [
      "quang_tri\n",
      "Total craters labelled: 10132\n",
      "Craters labelled by category:\n",
      "class_name\n",
      "pattern     5906\n",
      "rim         1808\n",
      "group        866\n",
      "bowl         823\n",
      "crescent     729\n",
      "Name: count, dtype: int64\n",
      "\n",
      "tri_border_area\n",
      "Total craters labelled: 964\n",
      "Craters labelled by category:\n",
      "class_name\n",
      "pattern     528\n",
      "bowl        142\n",
      "rim         115\n",
      "crescent    107\n",
      "group        72\n",
      "Name: count, dtype: int64\n",
      "\n"
     ]
    }
   ],
   "source": [
    "for study_area in study_areas:\n",
    "    labels = gpd.read_file(\n",
    "        config[\"labels_processed_path\"].format(study_area=study_area))\n",
    "    print(study_area)\n",
    "    print(f\"Total craters labelled: {len(labels)}\")\n",
    "    print(\"Craters labelled by category:\")\n",
    "    print(labels[\"class_name\"].value_counts())\n",
    "    print()"
   ]
  }
 ],
 "metadata": {
  "kernelspec": {
   "display_name": "unet",
   "language": "python",
   "name": "python3"
  },
  "language_info": {
   "codemirror_mode": {
    "name": "ipython",
    "version": 3
   },
   "file_extension": ".py",
   "mimetype": "text/x-python",
   "name": "python",
   "nbconvert_exporter": "python",
   "pygments_lexer": "ipython3",
   "version": "3.11.4"
  },
  "orig_nbformat": 4
 },
 "nbformat": 4,
 "nbformat_minor": 2
}
