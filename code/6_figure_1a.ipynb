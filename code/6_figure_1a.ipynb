{
 "cells": [
  {
   "cell_type": "markdown",
   "metadata": {},
   "source": [
    "### Create Figure 1a - THOR bombing overview\n",
    "Creates the overview map of THOR bombing missions across Southeast Asia.\n",
    "\n",
    "#### Input:\n",
    "* *thor_path*: THOR bombing data (csv file)\n",
    "* *vnm_gadm_path*: GADM country outlines for Vietnam (geojson file)\n",
    "* *khm_gadm_path*: GADM country outlines for Cambodia (geojson file)\n",
    "* *lao_gadm_path*: GADM country outlines for Lao PDR (geojson file)\n",
    "* *footprint_path_sa*: KH-9 study area footprints (geojson files)\n",
    "\n",
    "\n",
    "#### Parameters:\n",
    "* *fontsize*: Fontsize of the figure  \n",
    "* *thor_color*: Color used for visualising the THOR bombing targets\n",
    "* *dpi*: DPI to use when saving the figure\n",
    "\n",
    "#### Outputs\n",
    "* *plots_folder*: Folder to save the figure in\n",
    "\n",
    "#### Created paper content:\n",
    "* **Figure 1a**: Main parts of Figure 1a, text elements were added later in Powerpoint"
   ]
  },
  {
   "cell_type": "code",
   "execution_count": 1,
   "metadata": {},
   "outputs": [],
   "source": [
    "import cartopy.crs as ccrs\n",
    "import cartopy.feature as cfeature\n",
    "import geopandas as gpd\n",
    "import matplotlib.pyplot as plt\n",
    "\n",
    "from utils import create_dir, load_config\n",
    "from analysis import load_thor\n",
    "from matplotlib.lines import Line2D"
   ]
  },
  {
   "cell_type": "code",
   "execution_count": 2,
   "metadata": {},
   "outputs": [],
   "source": [
    "config = load_config(\"../config.yaml\")"
   ]
  },
  {
   "cell_type": "markdown",
   "metadata": {},
   "source": [
    "### Load data"
   ]
  },
  {
   "cell_type": "code",
   "execution_count": 3,
   "metadata": {},
   "outputs": [],
   "source": [
    "vietnam = gpd.read_file(config.get(\"vnm_gadm_path\"))\n",
    "vietnam = cfeature.ShapelyFeature(vietnam.geometry, crs=ccrs.PlateCarree())\n",
    "cambodia = gpd.read_file(config.get(\"khm_gadm_path\"))\n",
    "cambodia = cfeature.ShapelyFeature(cambodia.geometry, crs=ccrs.PlateCarree())\n",
    "lao = gpd.read_file(config.get(\"lao_gadm_path\"))\n",
    "lao = cfeature.ShapelyFeature(lao.geometry, crs=ccrs.PlateCarree())"
   ]
  },
  {
   "cell_type": "code",
   "execution_count": 4,
   "metadata": {},
   "outputs": [],
   "source": [
    "cities = {\n",
    "    \"\\n\\n\\nHo Chi \\n Minh City\": [10.762622, 106.660172]\n",
    "}\n",
    "\n",
    "capitals = {\n",
    "    \"\\n\\nHanoi\": [21.028511, 105.804817],\n",
    "    \"\\n\\nPhnom Penh\": [11.562108, 104.888535],\n",
    "    \"\\n\\nVientiane\": [17.974855, 102.630867]\n",
    "}\n",
    "\n",
    "countries_plot = {\n",
    "    \"LAOS\": [19.680, 102.089],\n",
    "    \"VIETNAM\": [22.028, 104.938],\n",
    "    \"CAMBODIA\": [12.764, 104.366]\n",
    "}"
   ]
  },
  {
   "cell_type": "code",
   "execution_count": 5,
   "metadata": {},
   "outputs": [],
   "source": [
    "qt_footprint = gpd.read_file(config.get(\"footprint_path_sa\").format(study_area=\"quang_tri\"))\n",
    "qt_footprint = cfeature.ShapelyFeature(qt_footprint.geometry, crs=ccrs.UTM(48))\n",
    "tba_footprint =  gpd.read_file(config.get(\"footprint_path_sa\").format(study_area=\"tri_border_area\"))\n",
    "tba_footprint = cfeature.ShapelyFeature(tba_footprint.geometry, crs=ccrs.UTM(48))"
   ]
  },
  {
   "cell_type": "code",
   "execution_count": 6,
   "metadata": {},
   "outputs": [],
   "source": [
    "# load THOR data\n",
    "thor = load_thor(config.get(\"thor_path\"))\n",
    "# subset to kinetic missions\n",
    "thor_kinetic = thor[(thor[\"mfunc_desc_class\"] == \"KINETIC\")]"
   ]
  },
  {
   "cell_type": "markdown",
   "metadata": {},
   "source": [
    "### Figure 1a"
   ]
  },
  {
   "cell_type": "code",
   "execution_count": 7,
   "metadata": {},
   "outputs": [
    {
     "name": "stdout",
     "output_type": "stream",
     "text": [
      "Directory already exists: ../outputs/plots\n"
     ]
    }
   ],
   "source": [
    "# key parameters for the plot\n",
    "fontsize = config.get(\"fontsize\")\n",
    "thor_color = config.get(\"thor_color\")\n",
    "proj = ccrs.UTM(48)\n",
    "dpi = config.get(\"dpi\")\n",
    "figure_size = 14.5 # figure size in cm\n",
    "cm = 1/2.54 # conversion factor between inches and cm\n",
    "save_params = {\"format\": \"png\", \"dpi\": dpi, \"transparent\": False, \"bbox_inches\": \"tight\", \"pad_inches\": 0}\n",
    "\n",
    "output_folder = config.get(\"plots_folder\")\n",
    "create_dir(output_folder)"
   ]
  },
  {
   "cell_type": "code",
   "execution_count": 8,
   "metadata": {},
   "outputs": [],
   "source": [
    "fig = plt.figure(figsize=(figure_size*cm, figure_size*cm), dpi=dpi)\n",
    "ax = plt.axes(projection=proj)\n",
    "ax.set_extent([100.04458465500008, 109.56917000000007, 8.281355000000099, 23.49269256700004], crs=ccrs.PlateCarree())\n",
    "\n",
    "ax.add_feature(vietnam, facecolor=\"none\", edgecolor=\"black\", zorder=6)\n",
    "ax.add_feature(cambodia, facecolor=\"none\", edgecolor=\"black\", zorder=6)\n",
    "ax.add_feature(lao, facecolor=\"none\", edgecolor=\"black\", zorder=6)\n",
    "\n",
    "ax.add_feature(qt_footprint, facecolor=\"none\", edgecolor=\"darkblue\", linewidth=1.5, zorder=7)\n",
    "ax.add_feature(tba_footprint, facecolor=\"none\", edgecolor=\"darkblue\", linewidth=1.5, zorder=7)\n",
    "\n",
    "for name, coords in capitals.items():\n",
    "    ax.scatter(x=coords[1], y=coords[0], marker=\"D\", s=10, color=\"black\", transform=ccrs.PlateCarree(), zorder=6)\n",
    "\n",
    "for name, coords in cities.items():\n",
    "    ax.scatter(x=coords[1], y=coords[0], marker=\"o\", s=10, color=\"black\", transform=ccrs.PlateCarree(), zorder=6)\n",
    "    \n",
    "ax.axis(\"off\")\n",
    "\n",
    "ax.scatter(thor_kinetic[\"tgtlonddd_ddd_wgs84\"], thor_kinetic[\"tgtlatdd_ddd_wgs84\"],\n",
    "           marker=\".\", \n",
    "           color=thor_color,\n",
    "           edgecolor=\"none\",\n",
    "           alpha=0.2,\n",
    "           s=0.1, \n",
    "           transform=ccrs.PlateCarree(),\n",
    "           zorder=5)\n",
    "\n",
    "# add legend\n",
    "legend_handles = [Line2D([0], [0], marker=\".\", color=\"black\", label=\"\", lw=0,\n",
    "      markerfacecolor=thor_color, markeredgecolor=\"none\", markersize=8)]\n",
    "ax.legend(handles=legend_handles, loc=\"center left\", labelcolor=\"black\", prop={\"weight\": \"bold\", \"size\": fontsize}, \n",
    "          facecolor=\"white\", edgecolor=\"white\")\n",
    "\n",
    "plt.savefig(f\"{output_folder}/figure_1a_vietnam_overview.png\", **save_params)\n",
    "plt.close()"
   ]
  }
 ],
 "metadata": {
  "kernelspec": {
   "display_name": "unet",
   "language": "python",
   "name": "python3"
  },
  "language_info": {
   "codemirror_mode": {
    "name": "ipython",
    "version": 3
   },
   "file_extension": ".py",
   "mimetype": "text/x-python",
   "name": "python",
   "nbconvert_exporter": "python",
   "pygments_lexer": "ipython3",
   "version": "3.11.4"
  },
  "orig_nbformat": 4
 },
 "nbformat": 4,
 "nbformat_minor": 2
}
